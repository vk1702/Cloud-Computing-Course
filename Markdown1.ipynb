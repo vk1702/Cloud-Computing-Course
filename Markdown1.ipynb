{
  "cells": [
    {
      "cell_type": "markdown",
      "metadata": {
        "id": "view-in-github",
        "colab_type": "text"
      },
      "source": [
        "<a href=\"https://colab.research.google.com/github/vk1702/Cloud-Computing-Course/blob/main/Markdown1.ipynb\" target=\"_parent\"><img src=\"https://colab.research.google.com/assets/colab-badge.svg\" alt=\"Open In Colab\"/></a>"
      ]
    },
    {
      "cell_type": "markdown",
      "id": "eab6f065",
      "metadata": {
        "id": "eab6f065"
      },
      "source": [
        "# Markdown Learning\n",
        "\n",
        "I am learning Python and code deployment in a cloud environment (AWS) on [Coursera] (https://www.coursera.org/specializations/building-cloud-computing-solutions-at-scale?)\n",
        "\n",
        "#### Goal Of The Course\n",
        "* Understand Code Deployment Pipelines\n",
        "* Learn About Cloud Architectures\n",
        "* Learn Python\n",
        "* Have Fun!"
      ]
    },
    {
      "cell_type": "code",
      "execution_count": 1,
      "id": "6c58869a",
      "metadata": {
        "colab": {
          "base_uri": "https://localhost:8080/"
        },
        "id": "6c58869a",
        "outputId": "c2066ddc-4c8c-4d74-dbb9-63253b071265"
      },
      "outputs": [
        {
          "output_type": "stream",
          "name": "stdout",
          "text": [
            "Hello World\n"
          ]
        }
      ],
      "source": [
        "print(\"Hello World\")"
      ]
    }
  ],
  "metadata": {
    "kernelspec": {
      "display_name": "Python 3 (ipykernel)",
      "language": "python",
      "name": "python3"
    },
    "language_info": {
      "codemirror_mode": {
        "name": "ipython",
        "version": 3
      },
      "file_extension": ".py",
      "mimetype": "text/x-python",
      "name": "python",
      "nbconvert_exporter": "python",
      "pygments_lexer": "ipython3",
      "version": "3.9.7"
    },
    "colab": {
      "name": "Markdown1.ipynb",
      "provenance": [],
      "include_colab_link": true
    }
  },
  "nbformat": 4,
  "nbformat_minor": 5
}