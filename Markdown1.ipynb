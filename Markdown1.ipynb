{
 "cells": [
  {
   "cell_type": "markdown",
   "id": "eab6f065",
   "metadata": {},
   "source": [
    "# Markdown Learning\n",
    "\n",
    "I am learning Python and code deployment in a cloud environment (AWS) on [Coursera] (https://www.coursera.org/specializations/building-cloud-computing-solutions-at-scale?)\n",
    "\n",
    "#### Goal Of The Course\n",
    "* Understand Code Deployment Pipelines\n",
    "* Learn About Cloud Architectures\n",
    "* Learn Python\n",
    "* Have Fun!"
   ]
  },
  {
   "cell_type": "code",
   "execution_count": 2,
   "id": "6c58869a",
   "metadata": {},
   "outputs": [
    {
     "name": "stdout",
     "output_type": "stream",
     "text": [
      "Hello World\n"
     ]
    }
   ],
   "source": [
    "print(\"Hello World\")"
   ]
  }
 ],
 "metadata": {
  "kernelspec": {
   "display_name": "Python 3 (ipykernel)",
   "language": "python",
   "name": "python3"
  },
  "language_info": {
   "codemirror_mode": {
    "name": "ipython",
    "version": 3
   },
   "file_extension": ".py",
   "mimetype": "text/x-python",
   "name": "python",
   "nbconvert_exporter": "python",
   "pygments_lexer": "ipython3",
   "version": "3.9.7"
  }
 },
 "nbformat": 4,
 "nbformat_minor": 5
}
